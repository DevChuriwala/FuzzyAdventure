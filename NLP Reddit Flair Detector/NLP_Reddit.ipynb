{
  "nbformat": 4,
  "nbformat_minor": 0,
  "metadata": {
    "colab": {
      "name": "NLP_Reddit.ipynb",
      "provenance": [],
      "collapsed_sections": [],
      "machine_shape": "hm"
    },
    "kernelspec": {
      "name": "python3",
      "display_name": "Python 3"
    },
    "accelerator": "GPU"
  },
  "cells": [
    {
      "cell_type": "code",
      "metadata": {
        "id": "02uAlG46AZIT",
        "colab_type": "code",
        "colab": {}
      },
      "source": [
        "import torch\n",
        "import torch.nn as nn\n",
        "import pandas as pd\n",
        "import numpy as np\n",
        "import re\n",
        "import spacy\n",
        "from collections import Counter\n",
        "from torch.utils.data import Dataset, DataLoader\n",
        "import torch.nn.functional as F\n",
        "import string\n",
        "from torch.nn.utils.rnn import pack_padded_sequence, pad_packed_sequence\n",
        "from sklearn import metrics\n",
        "from sklearn.metrics import mean_squared_error\n",
        "%matplotlib inline"
      ],
      "execution_count": 54,
      "outputs": []
    },
    {
      "cell_type": "code",
      "metadata": {
        "id": "i8mOm_ojAaJc",
        "colab_type": "code",
        "colab": {
          "base_uri": "https://localhost:8080/",
          "height": 34
        },
        "outputId": "f7b62100-41c8-437a-d888-ac2343d1986c"
      },
      "source": [
        "df1 = pd.read_csv('/content/train.csv', delimiter=',')\n",
        "df1['Title'] = df1['Title'].astype(str)\n",
        "df1['Post'] = df1['Post'].astype(str)\n",
        "nRow, nCol = df1.shape\n",
        "print(f'Rows: {nRow}, Columns: {nCol}')"
      ],
      "execution_count": 34,
      "outputs": [
        {
          "output_type": "stream",
          "text": [
            "Rows: 36547, Columns: 3\n"
          ],
          "name": "stdout"
        }
      ]
    },
    {
      "cell_type": "code",
      "metadata": {
        "id": "-hklhvfMAhYe",
        "colab_type": "code",
        "colab": {
          "base_uri": "https://localhost:8080/",
          "height": 282
        },
        "outputId": "bb85dd53-44ea-4d60-917f-c7335ea83898"
      },
      "source": [
        "df1.groupby('Flair')['Title'].nunique().plot(kind='bar')\n",
        "plt.ylabel(\"Occurances\")\n",
        "plt.show()"
      ],
      "execution_count": 35,
      "outputs": [
        {
          "output_type": "display_data",
          "data": {
            "image/png": "[encoded data removed]",
            "text/plain": [
              "<Figure size 432x288 with 1 Axes>"
            ]
          },
          "metadata": {
            "tags": [],
            "needs_background": "light"
          }
        }
      ]
    },
    {
      "cell_type": "code",
      "metadata": {
        "id": "hvZ7VSYkAl8B",
        "colab_type": "code",
        "colab": {
          "base_uri": "https://localhost:8080/",
          "height": 102
        },
        "outputId": "bc95ecc4-1fe0-4f27-e789-3da40c304262"
      },
      "source": [
        "df1['Combine'] = df1['Title'] # Create a column combined\n",
        "\n",
        "for i in range(len(df1)):\n",
        "        df1['Combine'][i] = df1['Combine'][i] + ' ' + df1['Post'][i]"
      ],
      "execution_count": 36,
      "outputs": [
        {
          "output_type": "stream",
          "text": [
            "/usr/local/lib/python3.6/dist-packages/ipykernel_launcher.py:4: SettingWithCopyWarning: \n",
            "A value is trying to be set on a copy of a slice from a DataFrame\n",
            "\n",
            "See the caveats in the documentation: https://pandas.pydata.org/pandas-docs/stable/user_guide/indexing.html#returning-a-view-versus-a-copy\n",
            "  after removing the cwd from sys.path.\n"
          ],
          "name": "stderr"
        }
      ]
    },
    {
      "cell_type": "code",
      "metadata": {
        "id": "bfVZB5c4AFFy",
        "colab_type": "code",
        "colab": {
          "base_uri": "https://localhost:8080/",
          "height": 204
        },
        "outputId": "a48cf006-913a-4d84-9b6b-82c03d9d898f"
      },
      "source": [
        "df1.head()"
      ],
      "execution_count": 37,
      "outputs": [
        {
          "output_type": "execute_result",
          "data": {
            "text/html": [
              "<div>\n",
              "<style scoped>\n",
              "    .dataframe tbody tr th:only-of-type {\n",
              "        vertical-align: middle;\n",
              "    }\n",
              "\n",
              "    .dataframe tbody tr th {\n",
              "        vertical-align: top;\n",
              "    }\n",
              "\n",
              "    .dataframe thead th {\n",
              "        text-align: right;\n",
              "    }\n",
              "</style>\n",
              "<table border=\"1\" class=\"dataframe\">\n",
              "  <thead>\n",
              "    <tr style=\"text-align: right;\">\n",
              "      <th></th>\n",
              "      <th>Title</th>\n",
              "      <th>Post</th>\n",
              "      <th>Flair</th>\n",
              "      <th>Combine</th>\n",
              "    </tr>\n",
              "  </thead>\n",
              "  <tbody>\n",
              "    <tr>\n",
              "      <th>0</th>\n",
              "      <td>netflix the family has been an amazing watch d...</td>\n",
              "      <td>netflixs new series the family is about a secr...</td>\n",
              "      <td>10</td>\n",
              "      <td>netflix the family has been an amazing watch d...</td>\n",
              "    </tr>\n",
              "    <tr>\n",
              "      <th>1</th>\n",
              "      <td>all results are out is iiitm gwalior it branch...</td>\n",
              "      <td>the internet seems to think so average package...</td>\n",
              "      <td>0</td>\n",
              "      <td>all results are out is iiitm gwalior it branch...</td>\n",
              "    </tr>\n",
              "    <tr>\n",
              "      <th>2</th>\n",
              "      <td>which are the things you always buy made in india</td>\n",
              "      <td>you can include the reason for your preference...</td>\n",
              "      <td>0</td>\n",
              "      <td>which are the things you always buy made in in...</td>\n",
              "    </tr>\n",
              "    <tr>\n",
              "      <th>3</th>\n",
              "      <td>weekly coders hackers amp all tech related thr...</td>\n",
              "      <td>last week issue all threads every week on frid...</td>\n",
              "      <td>11</td>\n",
              "      <td>weekly coders hackers amp all tech related thr...</td>\n",
              "    </tr>\n",
              "    <tr>\n",
              "      <th>4</th>\n",
              "      <td>what are some good unknown companies to work a...</td>\n",
              "      <td>there are similar posts on other subreddits bu...</td>\n",
              "      <td>0</td>\n",
              "      <td>what are some good unknown companies to work a...</td>\n",
              "    </tr>\n",
              "  </tbody>\n",
              "</table>\n",
              "</div>"
            ],
            "text/plain": [
              "                                               Title  ...                                            Combine\n",
              "0  netflix the family has been an amazing watch d...  ...  netflix the family has been an amazing watch d...\n",
              "1  all results are out is iiitm gwalior it branch...  ...  all results are out is iiitm gwalior it branch...\n",
              "2  which are the things you always buy made in india  ...  which are the things you always buy made in in...\n",
              "3  weekly coders hackers amp all tech related thr...  ...  weekly coders hackers amp all tech related thr...\n",
              "4  what are some good unknown companies to work a...  ...  what are some good unknown companies to work a...\n",
              "\n",
              "[5 rows x 4 columns]"
            ]
          },
          "metadata": {
            "tags": []
          },
          "execution_count": 37
        }
      ]
    },
    {
      "cell_type": "code",
      "metadata": {
        "id": "c-HalyiSAOTY",
        "colab_type": "code",
        "colab": {}
      },
      "source": [
        "df1['Combine'] = df1['Combine'].fillna('')"
      ],
      "execution_count": 38,
      "outputs": []
    },
    {
      "cell_type": "code",
      "metadata": {
        "id": "j5KmIL2CBDAL",
        "colab_type": "code",
        "colab": {}
      },
      "source": [
        "#tokenization\n",
        "tok = spacy.load('en')\n",
        "def tokenize (text):\n",
        "    text = re.sub(r\"[^\\x00-\\x7F]+\", \" \", text)\n",
        "    regex = re.compile('[' + re.escape(string.punctuation) + '0-9\\\\r\\\\t\\\\n]') # remove punctuation and numbers\n",
        "    nopunct = regex.sub(\" \", text.lower())\n",
        "    return [token.text for token in tok.tokenizer(nopunct)]"
      ],
      "execution_count": 39,
      "outputs": []
    },
    {
      "cell_type": "code",
      "metadata": {
        "id": "0iTKQECgBC-f",
        "colab_type": "code",
        "colab": {}
      },
      "source": [
        "counts = Counter()\n",
        "for index, row in df1.iterrows():\n",
        "    counts.update(tokenize(row['Combine']))"
      ],
      "execution_count": 40,
      "outputs": []
    },
    {
      "cell_type": "code",
      "metadata": {
        "id": "9CIJt5L0ByVR",
        "colab_type": "code",
        "colab": {
          "base_uri": "https://localhost:8080/",
          "height": 51
        },
        "outputId": "69f89573-c63a-44d4-c27e-d5015383625d"
      },
      "source": [
        "print(\"num_words before:\",len(counts.keys()))\n",
        "for word in list(counts):\n",
        "    if counts[word] < 2:\n",
        "        del counts[word]\n",
        "print(\"num_words after:\",len(counts.keys()))"
      ],
      "execution_count": 41,
      "outputs": [
        {
          "output_type": "stream",
          "text": [
            "num_words before: 88692\n",
            "num_words after: 42720\n"
          ],
          "name": "stdout"
        }
      ]
    },
    {
      "cell_type": "code",
      "metadata": {
        "id": "9e6B5JCvDWub",
        "colab_type": "code",
        "colab": {}
      },
      "source": [
        "vocab2index = {\"\":0, \"UNK\":1}\n",
        "words = [\"\", \"UNK\"]\n",
        "for word in counts:\n",
        "    vocab2index[word] = len(words)\n",
        "    words.append(word)"
      ],
      "execution_count": 42,
      "outputs": []
    },
    {
      "cell_type": "code",
      "metadata": {
        "id": "h6urXI_6FCpJ",
        "colab_type": "code",
        "colab": {}
      },
      "source": [
        "def encode_sentence(text, vocab2index, N=70):\n",
        "    tokenized = tokenize(text)\n",
        "    encoded = np.zeros(N, dtype=int)\n",
        "    enc1 = np.array([vocab2index.get(word, vocab2index[\"UNK\"]) for word in tokenized])\n",
        "    length = min(N, len(enc1))\n",
        "    encoded[:length] = enc1[:length]\n",
        "    return encoded, length"
      ],
      "execution_count": 43,
      "outputs": []
    },
    {
      "cell_type": "code",
      "metadata": {
        "id": "K0d0l9qRFHhI",
        "colab_type": "code",
        "colab": {
          "base_uri": "https://localhost:8080/",
          "height": 289
        },
        "outputId": "11b750d6-b299-4f96-c26b-17c556ad1207"
      },
      "source": [
        "df1['encoded'] = df1['Combine'].apply(lambda x: np.array(encode_sentence(x,vocab2index )))\n",
        "df1.head()"
      ],
      "execution_count": 44,
      "outputs": [
        {
          "output_type": "execute_result",
          "data": {
            "text/html": [
              "<div>\n",
              "<style scoped>\n",
              "    .dataframe tbody tr th:only-of-type {\n",
              "        vertical-align: middle;\n",
              "    }\n",
              "\n",
              "    .dataframe tbody tr th {\n",
              "        vertical-align: top;\n",
              "    }\n",
              "\n",
              "    .dataframe thead th {\n",
              "        text-align: right;\n",
              "    }\n",
              "</style>\n",
              "<table border=\"1\" class=\"dataframe\">\n",
              "  <thead>\n",
              "    <tr style=\"text-align: right;\">\n",
              "      <th></th>\n",
              "      <th>Title</th>\n",
              "      <th>Post</th>\n",
              "      <th>Flair</th>\n",
              "      <th>Combine</th>\n",
              "      <th>encoded</th>\n",
              "    </tr>\n",
              "  </thead>\n",
              "  <tbody>\n",
              "    <tr>\n",
              "      <th>0</th>\n",
              "      <td>netflix the family has been an amazing watch d...</td>\n",
              "      <td>netflixs new series the family is about a secr...</td>\n",
              "      <td>10</td>\n",
              "      <td>netflix the family has been an amazing watch d...</td>\n",
              "      <td>[[2, 3, 4, 5, 6, 7, 8, 9, 10, 11, 12, 3, 13, 5...</td>\n",
              "    </tr>\n",
              "    <tr>\n",
              "      <th>1</th>\n",
              "      <td>all results are out is iiitm gwalior it branch...</td>\n",
              "      <td>the internet seems to think so average package...</td>\n",
              "      <td>0</td>\n",
              "      <td>all results are out is iiitm gwalior it branch...</td>\n",
              "      <td>[[32, 53, 54, 55, 25, 1, 56, 57, 58, 59, 3, 60...</td>\n",
              "    </tr>\n",
              "    <tr>\n",
              "      <th>2</th>\n",
              "      <td>which are the things you always buy made in india</td>\n",
              "      <td>you can include the reason for your preference...</td>\n",
              "      <td>0</td>\n",
              "      <td>which are the things you always buy made in in...</td>\n",
              "      <td>[[82, 54, 3, 83, 11, 84, 85, 86, 30, 87, 11, 6...</td>\n",
              "    </tr>\n",
              "    <tr>\n",
              "      <th>3</th>\n",
              "      <td>weekly coders hackers amp all tech related thr...</td>\n",
              "      <td>last week issue all threads every week on frid...</td>\n",
              "      <td>11</td>\n",
              "      <td>weekly coders hackers amp all tech related thr...</td>\n",
              "      <td>[[110, 111, 112, 113, 32, 114, 115, 116, 117, ...</td>\n",
              "    </tr>\n",
              "    <tr>\n",
              "      <th>4</th>\n",
              "      <td>what are some good unknown companies to work a...</td>\n",
              "      <td>there are similar posts on other subreddits bu...</td>\n",
              "      <td>0</td>\n",
              "      <td>what are some good unknown companies to work a...</td>\n",
              "      <td>[[14, 54, 48, 59, 158, 159, 18, 160, 15, 30, 8...</td>\n",
              "    </tr>\n",
              "  </tbody>\n",
              "</table>\n",
              "</div>"
            ],
            "text/plain": [
              "                                               Title  ...                                            encoded\n",
              "0  netflix the family has been an amazing watch d...  ...  [[2, 3, 4, 5, 6, 7, 8, 9, 10, 11, 12, 3, 13, 5...\n",
              "1  all results are out is iiitm gwalior it branch...  ...  [[32, 53, 54, 55, 25, 1, 56, 57, 58, 59, 3, 60...\n",
              "2  which are the things you always buy made in india  ...  [[82, 54, 3, 83, 11, 84, 85, 86, 30, 87, 11, 6...\n",
              "3  weekly coders hackers amp all tech related thr...  ...  [[110, 111, 112, 113, 32, 114, 115, 116, 117, ...\n",
              "4  what are some good unknown companies to work a...  ...  [[14, 54, 48, 59, 158, 159, 18, 160, 15, 30, 8...\n",
              "\n",
              "[5 rows x 5 columns]"
            ]
          },
          "metadata": {
            "tags": []
          },
          "execution_count": 44
        }
      ]
    },
    {
      "cell_type": "code",
      "metadata": {
        "id": "6idGk2GeFfCn",
        "colab_type": "code",
        "colab": {}
      },
      "source": [
        "X = list(df1['encoded'])\n",
        "y = list(df1['Flair'])\n",
        "from sklearn.model_selection import train_test_split\n",
        "X_train, X_valid, y_train, y_valid = train_test_split(X, y, test_size=0.2)\n",
        "device = torch.device(\"cuda:0\" if torch.cuda.is_available() else \"cpu\")"
      ],
      "execution_count": 45,
      "outputs": []
    },
    {
      "cell_type": "code",
      "metadata": {
        "id": "g5wFYeRBFwNf",
        "colab_type": "code",
        "colab": {}
      },
      "source": [
        "class ReviewsDataset(Dataset):\n",
        "    def __init__(self, X, Y):\n",
        "        self.X = X\n",
        "        self.y = Y\n",
        "        \n",
        "    def __len__(self):\n",
        "        return len(self.y)\n",
        "    \n",
        "    def __getitem__(self, idx):\n",
        "        return torch.from_numpy(self.X[idx][0].astype(np.int32)), self.y[idx], self.X[idx][1]"
      ],
      "execution_count": 46,
      "outputs": []
    },
    {
      "cell_type": "code",
      "metadata": {
        "id": "R3zksrM6F9Gc",
        "colab_type": "code",
        "colab": {}
      },
      "source": [
        "train_ds = ReviewsDataset(X_train, y_train)\n",
        "valid_ds = ReviewsDataset(X_valid, y_valid)"
      ],
      "execution_count": 47,
      "outputs": []
    },
    {
      "cell_type": "code",
      "metadata": {
        "id": "i8qe09m9H7ai",
        "colab_type": "code",
        "colab": {
          "base_uri": "https://localhost:8080/",
          "height": 170
        },
        "outputId": "bf57641a-ca86-4437-a277-af5602bd0daf"
      },
      "source": [
        "next(iter(train_dl)) "
      ],
      "execution_count": 48,
      "outputs": [
        {
          "output_type": "execute_result",
          "data": {
            "text/plain": [
              "[tensor([[24113, 24114,   869,  ...,  1465,  4193,  1508],\n",
              "         [   14,    53,    47,  ...,    30,  1143,   182],\n",
              "         [   14,    53,    47,  ...,   513,  1831,    47],\n",
              "         ...,\n",
              "         [    3,    48,    49,  ...,     0,     0,     0],\n",
              "         [  857,     3,  2889,  ...,     0,     0,     0],\n",
              "         [   14,    25, 12807,  ...,     0,     0,     0]], dtype=torch.int32),\n",
              " tensor([10.,  0.,  1.,  ..., 10.,  0.,  0.], dtype=torch.float64),\n",
              " tensor([70, 70, 70,  ..., 40, 41, 27])]"
            ]
          },
          "metadata": {
            "tags": []
          },
          "execution_count": 48
        }
      ]
    },
    {
      "cell_type": "code",
      "metadata": {
        "id": "X2uCIJ5TF-rk",
        "colab_type": "code",
        "colab": {}
      },
      "source": [
        "def train_model(model, epochs=10, lr=0.001):\n",
        "    parameters = filter(lambda p: p.requires_grad, model.parameters())\n",
        "    optimizer = torch.optim.Adam(parameters, lr=lr)\n",
        "    for i in range(epochs):\n",
        "        model.train()\n",
        "        sum_loss = 0.0\n",
        "        total = 0\n",
        "        # for x, y, l in train_dl:\n",
        "        #   x = x.to(device)\n",
        "        #   y = y.to(device)\n",
        "        #   l = l.to(device)\n",
        "        for x, y, l in train_dl:\n",
        "            x = x.long()\n",
        "            y = y.long()\n",
        "            y_pred = model(x, l)\n",
        "            optimizer.zero_grad()\n",
        "            loss = F.cross_entropy(y_pred, y)\n",
        "            loss.backward()\n",
        "            optimizer.step()\n",
        "            sum_loss += loss.item()*y.shape[0]\n",
        "            total += y.shape[0]\n",
        "        val_loss, val_acc, val_rmse, y_true, y_predt = validation_metrics(model, val_dl)\n",
        "        if i % 5 == 0:\n",
        "            print(\"train loss %.3f, val loss %.3f, val accuracy %.3f, and val rmse %.3f\" % (sum_loss/total, val_loss, val_acc, val_rmse))\n",
        "            print(metrics.classification_report(y_true, y_predt, digits=3))\n",
        "\n",
        "\n",
        "def validation_metrics (model, valid_dl):\n",
        "    model.eval()\n",
        "    y_true = []\n",
        "    y_predt = []\n",
        "    correct = 0\n",
        "    total = 0\n",
        "    sum_loss = 0.0\n",
        "    sum_rmse = 0.\n",
        "\n",
        "    # for x, y, l in valid_dl:\n",
        "    #     x = x.to(device)\n",
        "    #     y = y.to(device)\n",
        "    #     l = l.to(device)\n",
        "    for x, y, l in valid_dl:\n",
        "        x = x.long()\n",
        "        y = y.long()\n",
        "        y_hat = model(x, l)\n",
        "        loss = F.cross_entropy(y_hat, y)\n",
        "        pred = torch.max(y_hat, 1)[1]\n",
        "        correct += (pred == y).float().sum()\n",
        "        y_true = y.numpy()\n",
        "        y_predt = pred.numpy()\n",
        "        total += y.shape[0]\n",
        "        sum_loss += loss.item()*y.shape[0]\n",
        "        sum_rmse += np.sqrt(mean_squared_error(pred, y.unsqueeze(-1)))*y.shape[0]\n",
        "    return sum_loss/total, correct/total, sum_rmse/total, y_true, y_predt"
      ],
      "execution_count": 100,
      "outputs": []
    },
    {
      "cell_type": "code",
      "metadata": {
        "id": "Cwy5MWI-GDSG",
        "colab_type": "code",
        "colab": {}
      },
      "source": [
        "batch_size = 5000\n",
        "vocab_size = len(words)\n",
        "train_dl = DataLoader(train_ds, batch_size=batch_size, shuffle=True)\n",
        "val_dl = DataLoader(valid_ds, batch_size=batch_size)"
      ],
      "execution_count": 101,
      "outputs": []
    },
    {
      "cell_type": "code",
      "metadata": {
        "id": "jyu2ziMHGH5T",
        "colab_type": "code",
        "colab": {}
      },
      "source": [
        "class LSTM_variable_input(torch.nn.Module) :\n",
        "    def __init__(self, vocab_size, embedding_dim, hidden_dim) :\n",
        "        super().__init__()\n",
        "        self.hidden_dim = hidden_dim\n",
        "        self.dropout = nn.Dropout(0.3)\n",
        "        self.embeddings = nn.Embedding(vocab_size, embedding_dim, padding_idx=0)\n",
        "        self.lstm = nn.LSTM(embedding_dim, hidden_dim, num_layers= 2, batch_first=True)\n",
        "        self.linear = nn.Linear(hidden_dim, 15)\n",
        "        \n",
        "    def forward(self, x, s):\n",
        "        x = self.embeddings(x)\n",
        "        x = self.dropout(x)\n",
        "        x_pack = pack_padded_sequence(x, s, batch_first=True, enforce_sorted=False)\n",
        "        out_pack, (ht, ct) = self.lstm(x_pack)\n",
        "        out = self.linear(ht[-1])\n",
        "        return out"
      ],
      "execution_count": 102,
      "outputs": []
    },
    {
      "cell_type": "code",
      "metadata": {
        "id": "-5hHiPDcGOp2",
        "colab_type": "code",
        "colab": {}
      },
      "source": [
        "model = LSTM_variable_input(vocab_size, 50, 50)\n",
        "# model = model.to(device)"
      ],
      "execution_count": 103,
      "outputs": []
    },
    {
      "cell_type": "code",
      "metadata": {
        "id": "XNexFXueGyc0",
        "colab_type": "code",
        "colab": {
          "base_uri": "https://localhost:8080/",
          "height": 1000
        },
        "outputId": "aff0fe97-37d7-41f8-ecc6-50b99f722c58"
      },
      "source": [
        "train_model(model, epochs=30, lr=0.3)"
      ],
      "execution_count": null,
      "outputs": [
        {
          "output_type": "stream",
          "text": [
            "train loss 3.840, val loss 3.414, val accuracy 0.456, and val rmse 6.478\n",
            "              precision    recall  f1-score   support\n",
            "\n",
            "           0      0.459     0.994     0.628      1060\n",
            "           1      0.000     0.000     0.000        45\n",
            "           2      0.000     0.000     0.000         7\n",
            "           3      0.000     0.000     0.000        40\n",
            "           4      0.000     0.000     0.000        28\n",
            "           5      0.000     0.000     0.000        15\n",
            "           6      0.000     0.000     0.000        16\n",
            "           7      0.125     0.002     0.004       522\n",
            "           8      0.000     0.000     0.000         4\n",
            "           9      0.000     0.000     0.000        68\n",
            "          10      0.000     0.000     0.000       310\n",
            "          11      0.000     0.000     0.000        26\n",
            "          12      0.000     0.000     0.000        66\n",
            "          13      0.000     0.000     0.000        12\n",
            "          14      0.000     0.000     0.000        91\n",
            "\n",
            "    accuracy                          0.457      2310\n",
            "   macro avg      0.039     0.066     0.042      2310\n",
            "weighted avg      0.239     0.457     0.289      2310\n",
            "\n"
          ],
          "name": "stdout"
        },
        {
          "output_type": "stream",
          "text": [
            "/usr/local/lib/python3.6/dist-packages/sklearn/metrics/_classification.py:1272: UndefinedMetricWarning: Precision and F-score are ill-defined and being set to 0.0 in labels with no predicted samples. Use `zero_division` parameter to control this behavior.\n",
            "  _warn_prf(average, modifier, msg_start, len(result))\n"
          ],
          "name": "stderr"
        },
        {
          "output_type": "stream",
          "text": [
            "train loss 2.009, val loss 1.965, val accuracy 0.456, and val rmse 6.467\n",
            "              precision    recall  f1-score   support\n",
            "\n",
            "           0      0.461     0.992     0.630      1060\n",
            "           1      0.000     0.000     0.000        45\n",
            "           2      0.000     0.000     0.000         7\n",
            "           3      0.000     0.000     0.000        40\n",
            "           4      0.000     0.000     0.000        28\n",
            "           5      0.000     0.000     0.000        15\n",
            "           6      0.000     0.000     0.000        16\n",
            "           7      0.273     0.006     0.011       522\n",
            "           8      0.000     0.000     0.000         4\n",
            "           9      0.000     0.000     0.000        68\n",
            "          10      0.500     0.006     0.013       310\n",
            "          11      0.000     0.000     0.000        26\n",
            "          12      0.000     0.000     0.000        66\n",
            "          13      0.000     0.000     0.000        12\n",
            "          14      0.000     0.000     0.000        91\n",
            "\n",
            "    accuracy                          0.458      2310\n",
            "   macro avg      0.082     0.067     0.044      2310\n",
            "weighted avg      0.340     0.458     0.293      2310\n",
            "\n"
          ],
          "name": "stdout"
        },
        {
          "output_type": "stream",
          "text": [
            "/usr/local/lib/python3.6/dist-packages/sklearn/metrics/_classification.py:1272: UndefinedMetricWarning: Precision and F-score are ill-defined and being set to 0.0 in labels with no predicted samples. Use `zero_division` parameter to control this behavior.\n",
            "  _warn_prf(average, modifier, msg_start, len(result))\n"
          ],
          "name": "stderr"
        },
        {
          "output_type": "stream",
          "text": [
            "train loss 1.808, val loss 1.764, val accuracy 0.456, and val rmse 6.468\n",
            "              precision    recall  f1-score   support\n",
            "\n",
            "           0      0.460     0.989     0.628      1060\n",
            "           1      0.000     0.000     0.000        45\n",
            "           2      0.000     0.000     0.000         7\n",
            "           3      0.000     0.000     0.000        40\n",
            "           4      0.000     0.000     0.000        28\n",
            "           5      0.000     0.000     0.000        15\n",
            "           6      0.000     0.000     0.000        16\n",
            "           7      0.444     0.008     0.015       522\n",
            "           8      0.000     0.000     0.000         4\n",
            "           9      0.000     0.000     0.000        68\n",
            "          10      0.048     0.003     0.006       310\n",
            "          11      0.000     0.000     0.000        26\n",
            "          12      0.000     0.000     0.000        66\n",
            "          13      0.000     0.000     0.000        12\n",
            "          14      0.000     0.000     0.000        91\n",
            "\n",
            "    accuracy                          0.456      2310\n",
            "   macro avg      0.063     0.067     0.043      2310\n",
            "weighted avg      0.318     0.456     0.292      2310\n",
            "\n"
          ],
          "name": "stdout"
        },
        {
          "output_type": "stream",
          "text": [
            "/usr/local/lib/python3.6/dist-packages/sklearn/metrics/_classification.py:1272: UndefinedMetricWarning: Precision and F-score are ill-defined and being set to 0.0 in labels with no predicted samples. Use `zero_division` parameter to control this behavior.\n",
            "  _warn_prf(average, modifier, msg_start, len(result))\n"
          ],
          "name": "stderr"
        },
        {
          "output_type": "stream",
          "text": [
            "train loss 1.723, val loss 1.692, val accuracy 0.457, and val rmse 6.472\n",
            "              precision    recall  f1-score   support\n",
            "\n",
            "           0      0.459     0.992     0.628      1060\n",
            "           1      0.000     0.000     0.000        45\n",
            "           2      0.000     0.000     0.000         7\n",
            "           3      0.000     0.000     0.000        40\n",
            "           4      0.000     0.000     0.000        28\n",
            "           5      0.000     0.000     0.000        15\n",
            "           6      0.000     0.000     0.000        16\n",
            "           7      0.333     0.004     0.008       522\n",
            "           8      0.000     0.000     0.000         4\n",
            "           9      0.000     0.000     0.000        68\n",
            "          10      0.250     0.010     0.019       310\n",
            "          11      1.000     0.038     0.074        26\n",
            "          12      0.000     0.000     0.000        66\n",
            "          13      0.000     0.000     0.000        12\n",
            "          14      0.000     0.000     0.000        91\n",
            "\n",
            "    accuracy                          0.458      2310\n",
            "   macro avg      0.136     0.070     0.049      2310\n",
            "weighted avg      0.331     0.458     0.293      2310\n",
            "\n"
          ],
          "name": "stdout"
        },
        {
          "output_type": "stream",
          "text": [
            "/usr/local/lib/python3.6/dist-packages/sklearn/metrics/_classification.py:1272: UndefinedMetricWarning: Precision and F-score are ill-defined and being set to 0.0 in labels with no predicted samples. Use `zero_division` parameter to control this behavior.\n",
            "  _warn_prf(average, modifier, msg_start, len(result))\n"
          ],
          "name": "stderr"
        },
        {
          "output_type": "stream",
          "text": [
            "train loss 1.715, val loss 1.689, val accuracy 0.457, and val rmse 6.465\n",
            "              precision    recall  f1-score   support\n",
            "\n",
            "           0      0.459     0.992     0.628      1060\n",
            "           1      0.000     0.000     0.000        45\n",
            "           2      0.000     0.000     0.000         7\n",
            "           3      0.000     0.000     0.000        40\n",
            "           4      0.000     0.000     0.000        28\n",
            "           5      0.000     0.000     0.000        15\n",
            "           6      0.000     0.000     0.000        16\n",
            "           7      0.071     0.002     0.004       522\n",
            "           8      0.000     0.000     0.000         4\n",
            "           9      0.000     0.000     0.000        68\n",
            "          10      0.286     0.006     0.013       310\n",
            "          11      0.000     0.000     0.000        26\n",
            "          12      0.000     0.000     0.000        66\n",
            "          13      0.000     0.000     0.000        12\n",
            "          14      0.000     0.000     0.000        91\n",
            "\n",
            "    accuracy                          0.456      2310\n",
            "   macro avg      0.054     0.067     0.043      2310\n",
            "weighted avg      0.265     0.456     0.291      2310\n",
            "\n"
          ],
          "name": "stdout"
        },
        {
          "output_type": "stream",
          "text": [
            "/usr/local/lib/python3.6/dist-packages/sklearn/metrics/_classification.py:1272: UndefinedMetricWarning: Precision and F-score are ill-defined and being set to 0.0 in labels with no predicted samples. Use `zero_division` parameter to control this behavior.\n",
            "  _warn_prf(average, modifier, msg_start, len(result))\n"
          ],
          "name": "stderr"
        },
        {
          "output_type": "stream",
          "text": [
            "train loss 1.720, val loss 1.695, val accuracy 0.457, and val rmse 6.466\n",
            "              precision    recall  f1-score   support\n",
            "\n",
            "           0      0.459     0.992     0.627      1060\n",
            "           1      0.000     0.000     0.000        45\n",
            "           2      0.000     0.000     0.000         7\n",
            "           3      0.000     0.000     0.000        40\n",
            "           4      0.000     0.000     0.000        28\n",
            "           5      0.000     0.000     0.000        15\n",
            "           6      0.000     0.000     0.000        16\n",
            "           7      0.286     0.004     0.008       522\n",
            "           8      0.000     0.000     0.000         4\n",
            "           9      0.000     0.000     0.000        68\n",
            "          10      0.111     0.003     0.006       310\n",
            "          11      0.000     0.000     0.000        26\n",
            "          12      0.000     0.000     0.000        66\n",
            "          13      0.000     0.000     0.000        12\n",
            "          14      0.000     0.000     0.000        91\n",
            "\n",
            "    accuracy                          0.457      2310\n",
            "   macro avg      0.057     0.067     0.043      2310\n",
            "weighted avg      0.290     0.457     0.290      2310\n",
            "\n"
          ],
          "name": "stdout"
        },
        {
          "output_type": "stream",
          "text": [
            "/usr/local/lib/python3.6/dist-packages/sklearn/metrics/_classification.py:1272: UndefinedMetricWarning: Precision and F-score are ill-defined and being set to 0.0 in labels with no predicted samples. Use `zero_division` parameter to control this behavior.\n",
            "  _warn_prf(average, modifier, msg_start, len(result))\n"
          ],
          "name": "stderr"
        }
      ]
    }
  ]
}